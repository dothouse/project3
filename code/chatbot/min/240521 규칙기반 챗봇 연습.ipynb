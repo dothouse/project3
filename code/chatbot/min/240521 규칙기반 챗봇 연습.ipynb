{
 "cells": [
  {
   "cell_type": "code",
   "execution_count": 9,
   "metadata": {},
   "outputs": [
    {
     "name": "stdout",
     "output_type": "stream",
     "text": [
      "        request rule                                           response\n",
      "0        책 추천해줘   추천  우리 꼬마 독서가는 어떤 장르를 좋아할까...?  [추리,스릴러,공포,과학,판타지,...\n",
      "1            추리   추리            추리라 ... 마침 너가 읽었으면 하던 책이 있구나! 기달려 보거라! \n",
      "2           스릴러  스릴러            스릴러라... 마침 너가 읽었으면 하던 책이 있구나! 기달려 보거라! \n",
      "3            공포   공포             공포라... 마침 너가 읽었으면 하던 책이 있구나! 기달려 보거라! \n",
      "4            과학   과학            과학이라... 마침 너가 읽었으면 하던 책이 있구나! 기달려 보거라! \n",
      "5           판타지  판타지            판타지라... 마침 너가 읽었으면 하던 책이 있구나! 기달려 보거라! \n",
      "6            무협   무협            무협이라... 마침 너가 읽었으면 하던 책이 있구나! 기달려 보거라! \n",
      "7            게임   게임            게임이라... 마침 너가 읽었으면 하던 책이 있구나! 기달려 보거라! \n",
      "8           로맨스  로맨스            로맨스라... 마침 너가 읽었으면 하던 책이 있구나! 기달려 보거라! \n",
      "9   할아버지 몇살이에요?   연세                  할아버지는 삼겹살 이란다 하하..!  재미가 없나보구나...\n",
      "10          힘들다    힘          그렇게 힘들어하는 지금의 너도 충분히 잘 해내고있는것 같아 보이는 구나! \n"
     ]
    }
   ],
   "source": [
    "import pandas as pd\n",
    "chatbot_data=pd.read_excel(\"./pickier.xlsx\")\n",
    "print(chatbot_data)"
   ]
  },
  {
   "cell_type": "code",
   "execution_count": 12,
   "metadata": {},
   "outputs": [
    {
     "name": "stdout",
     "output_type": "stream",
     "text": [
      "{0: ['추천'], 1: ['추리'], 2: ['스릴러'], 3: ['공포'], 4: ['과학'], 5: ['판타지'], 6: ['무협'], 7: ['게임'], 8: ['로맨스'], 9: ['연세'], 10: ['힘']}\n"
     ]
    }
   ],
   "source": [
    "# rule의 데이터를 split하여 list 형태로 변환 후, index값과 함께 dictionary 형태로 저장\n",
    "\n",
    "chat_dic={} # 빈 딕셔너리 초기화\n",
    "row=0 # 'row'라는 변수를 0으로 초기화\n",
    "\n",
    "for rule in chatbot_data['rule']:\n",
    "    chat_dic[row]=rule.split('|') # 각 rule 항목을 '|' 문자를 기준으로 분할하여 리스트로 변환\n",
    "    row += 1 # row 값을 1씩 증가시킴\n",
    "\n",
    "print(chat_dic)"
   ]
  },
  {
   "cell_type": "code",
   "execution_count": 13,
   "metadata": {},
   "outputs": [],
   "source": [
    "def chat(request): # 'request'라는 하나의 매개변수를 받음\n",
    "    for k, v in chat_dic.items():\n",
    "        chat_flag=False # 'chat_flag' 변수를 'False'로 초기화\n",
    "        # 내부 반복문 및 조건문\n",
    "        for word in v:\n",
    "            if word in request:\n",
    "                chat_flag=True\n",
    "            else:\n",
    "                chat_flag=False\n",
    "                break\n",
    "            # 응답 반환\n",
    "            if chat_flag:\n",
    "                return chatbot_data['response'][k]\n",
    "            return '무슨 말인지 잘 모르겠구나..!'\n",
    "\n",
    "# 'chat_flag'가 False이면 '무슨 말인지 잘 모르겠구나..!'라는 문자열을 반환   "
   ]
  },
  {
   "cell_type": "code",
   "execution_count": 17,
   "metadata": {},
   "outputs": [
    {
     "name": "stdout",
     "output_type": "stream",
     "text": [
      "피카에 할아버지 :  None\n"
     ]
    }
   ],
   "source": [
    "while True:\n",
    "    req=input(\"채팅을 입력하세요!\")\n",
    "    if req == 'exit':\n",
    "        break\n",
    "    else:\n",
    "        print(\"피카에 할아버지 : \",chat(req))\n",
    "\n",
    "# 만들어진 챗봇 함수를 호출하여 rule이 모두 포함되어 있으면 response를 반환, 프로그램을 종료하고 싶으면 'exit' 입력"
   ]
  }
 ],
 "metadata": {
  "kernelspec": {
   "display_name": "secondenv",
   "language": "python",
   "name": "python3"
  },
  "language_info": {
   "codemirror_mode": {
    "name": "ipython",
    "version": 3
   },
   "file_extension": ".py",
   "mimetype": "text/x-python",
   "name": "python",
   "nbconvert_exporter": "python",
   "pygments_lexer": "ipython3",
   "version": "3.9.18"
  }
 },
 "nbformat": 4,
 "nbformat_minor": 2
}
